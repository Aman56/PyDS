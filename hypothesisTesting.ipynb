{
 "cells": [
  {
   "cell_type": "markdown",
   "metadata": {},
   "source": [
    "---\n",
    "\n",
    "_You are currently looking at **version 1.1** of this notebook. To download notebooks and datafiles, as well as get help on Jupyter notebooks in the Coursera platform, visit the [Jupyter Notebook FAQ](https://www.coursera.org/learn/python-data-analysis/resources/0dhYG) course resource._\n",
    "\n",
    "---"
   ]
  },
  {
   "cell_type": "code",
   "execution_count": 1,
   "metadata": {
    "collapsed": true
   },
   "outputs": [],
   "source": [
    "import pandas as pd\n",
    "import numpy as np\n",
    "from scipy.stats import ttest_ind"
   ]
  },
  {
   "cell_type": "markdown",
   "metadata": {},
   "source": [
    "# Assignment 4 - Hypothesis Testing\n",
    "This assignment requires more individual learning than previous assignments - you are encouraged to check out the [pandas documentation](http://pandas.pydata.org/pandas-docs/stable/) to find functions or methods you might not have used yet, or ask questions on [Stack Overflow](http://stackoverflow.com/) and tag them as pandas and python related. And of course, the discussion forums are open for interaction with your peers and the course staff.\n",
    "\n",
    "Definitions:\n",
    "* A _quarter_ is a specific three month period, Q1 is January through March, Q2 is April through June, Q3 is July through September, Q4 is October through December.\n",
    "* A _recession_ is defined as starting with two consecutive quarters of GDP decline, and ending with two consecutive quarters of GDP growth.\n",
    "* A _recession bottom_ is the quarter within a recession which had the lowest GDP.\n",
    "* A _university town_ is a city which has a high percentage of university students compared to the total population of the city.\n",
    "\n",
    "**Hypothesis**: University towns have their mean housing prices less effected by recessions. Run a t-test to compare the ratio of the mean price of houses in university towns the quarter before the recession starts compared to the recession bottom. (`price_ratio=quarter_before_recession/recession_bottom`)\n",
    "\n",
    "The following data files are available for this assignment:\n",
    "* From the [Zillow research data site](http://www.zillow.com/research/data/) there is housing data for the United States. In particular the datafile for [all homes at a city level](http://files.zillowstatic.com/research/public/City/City_Zhvi_AllHomes.csv), ```City_Zhvi_AllHomes.csv```, has median home sale prices at a fine grained level.\n",
    "* From the Wikipedia page on college towns is a list of [university towns in the United States](https://en.wikipedia.org/wiki/List_of_college_towns#College_towns_in_the_United_States) which has been copy and pasted into the file ```university_towns.txt```.\n",
    "* From Bureau of Economic Analysis, US Department of Commerce, the [GDP over time](http://www.bea.gov/national/index.htm#gdp) of the United States in current dollars (use the chained value in 2009 dollars), in quarterly intervals, in the file ```gdplev.xls```. For this assignment, only look at GDP data from the first quarter of 2000 onward.\n",
    "\n",
    "Each function in this assignment below is worth 10%, with the exception of ```run_ttest()```, which is worth 50%."
   ]
  },
  {
   "cell_type": "code",
   "execution_count": 2,
   "metadata": {
    "collapsed": true
   },
   "outputs": [],
   "source": [
    "# Use this dictionary to map state names to two letter acronyms\n",
    "states = {'OH': 'Ohio', 'KY': 'Kentucky', 'AS': 'American Samoa', 'NV': 'Nevada', 'WY': 'Wyoming', 'NA': 'National', 'AL': 'Alabama', 'MD': 'Maryland', 'AK': 'Alaska', 'UT': 'Utah', 'OR': 'Oregon', 'MT': 'Montana', 'IL': 'Illinois', 'TN': 'Tennessee', 'DC': 'District of Columbia', 'VT': 'Vermont', 'ID': 'Idaho', 'AR': 'Arkansas', 'ME': 'Maine', 'WA': 'Washington', 'HI': 'Hawaii', 'WI': 'Wisconsin', 'MI': 'Michigan', 'IN': 'Indiana', 'NJ': 'New Jersey', 'AZ': 'Arizona', 'GU': 'Guam', 'MS': 'Mississippi', 'PR': 'Puerto Rico', 'NC': 'North Carolina', 'TX': 'Texas', 'SD': 'South Dakota', 'MP': 'Northern Mariana Islands', 'IA': 'Iowa', 'MO': 'Missouri', 'CT': 'Connecticut', 'WV': 'West Virginia', 'SC': 'South Carolina', 'LA': 'Louisiana', 'KS': 'Kansas', 'NY': 'New York', 'NE': 'Nebraska', 'OK': 'Oklahoma', 'FL': 'Florida', 'CA': 'California', 'CO': 'Colorado', 'PA': 'Pennsylvania', 'DE': 'Delaware', 'NM': 'New Mexico', 'RI': 'Rhode Island', 'MN': 'Minnesota', 'VI': 'Virgin Islands', 'NH': 'New Hampshire', 'MA': 'Massachusetts', 'GA': 'Georgia', 'ND': 'North Dakota', 'VA': 'Virginia'}"
   ]
  },
  {
   "cell_type": "code",
   "execution_count": 3,
   "metadata": {
    "collapsed": true,
    "umich_part_id": "021",
    "umich_partlist_id": "004"
   },
   "outputs": [],
   "source": [
    "'''Returns a DataFrame of towns and the states they are in from the \n",
    "    university_towns.txt list. The format of the DataFrame should be:\n",
    "    DataFrame( [ [\"Michigan\", \"Ann Arbor\"], [\"Michigan\", \"Yipsilanti\"] ], \n",
    "    columns=[\"State\", \"RegionName\"]  )\n",
    "    \n",
    "    The following cleaning needs to be done:\n",
    "\n",
    "    1. For \"State\", removing characters from \"[\" to the end.\n",
    "    2. For \"RegionName\", when applicable, removing every character from \" (\" to the end.\n",
    "    3. Depending on how you read the data, you may need to remove newline character '\\n'. '''\n",
    "def get_list_of_university_towns():\n",
    "    temp = []\n",
    "    data = open('university_towns.txt')\n",
    "    for line in data:\n",
    "        if '[ed' in line:\n",
    "            state = line.split('[ed')[0]\n",
    "        else:\n",
    "            region = line.split('(')[0].strip()\n",
    "            temp.append([state,region])\n",
    "    uni_towns = pd.DataFrame(temp,columns=['State','RegionName'])\n",
    "    return uni_towns"
   ]
  },
  {
   "cell_type": "code",
   "execution_count": 37,
   "metadata": {
    "collapsed": true,
    "umich_part_id": "022",
    "umich_partlist_id": "004"
   },
   "outputs": [],
   "source": [
    "def get_recession_start():\n",
    "    dat=pd.read_excel('gdplev.xls')\n",
    "    dat=dat.dropna(axis=1,how='all')\n",
    "    dat.columns = ['Annual', 'GDP in billions of current dollars_a','GDP in billions of chained 2009 dollars_a',\n",
    "                   'Quartly','GDP in billions of current dollars','GDP in billions of chained 2009 dollars']\n",
    "    dat = dat.loc[7:]\n",
    "    ind = dat[dat.Quartly=='2000q1'].index[0]\n",
    "    dat=dat.loc[ind:]\n",
    "    less=0\n",
    "    for idx,rw in dat.iterrows():\n",
    "        if rw['GDP in billions of chained 2009 dollars']>less:\n",
    "            less = rw['GDP in billions of chained 2009 dollars']\n",
    "        else:\n",
    "            if dat.loc[idx+1]['GDP in billions of chained 2009 dollars']<rw['GDP in billions of chained 2009 dollars']:\n",
    "                start = rw['Quartly']\n",
    "                break\n",
    "            else:\n",
    "                less = rw['GDP in billions of chained 2009 dollars']\n",
    "                \n",
    "    '''Returns the year and quarter of the recession start time as a \n",
    "    string value in a format such as 2005q3'''\n",
    "    \n",
    "    return start"
   ]
  },
  {
   "cell_type": "code",
   "execution_count": 24,
   "metadata": {
    "collapsed": true,
    "umich_part_id": "023",
    "umich_partlist_id": "004"
   },
   "outputs": [],
   "source": [
    "def get_recession_end():\n",
    "    dat=pd.read_excel('gdplev.xls')\n",
    "    dat=dat.dropna(axis=1,how='all')\n",
    "    dat.columns = ['Annual', 'GDP in billions of current dollars_a','GDP in billions of chained 2009 dollars_a',\n",
    "                   'Quartly','GDP in billions of current dollars','GDP in billions of chained 2009 dollars']\n",
    "    dat = dat.loc[7:]\n",
    "    start=get_recession_start()\n",
    "    ind = dat[dat.Quartly==start].index[0]\n",
    "    dat=dat.loc[ind:]\n",
    "    more=dat.iloc[0]['GDP in billions of chained 2009 dollars']\n",
    "    for idx,rw in dat.iterrows():\n",
    "        if rw['GDP in billions of chained 2009 dollars']<=more:\n",
    "            more = rw['GDP in billions of chained 2009 dollars']\n",
    "        else:\n",
    "            if dat.loc[idx+1]['GDP in billions of chained 2009 dollars']>rw['GDP in billions of chained 2009 dollars']:\n",
    "                end = dat.loc[idx+1]['Quartly']\n",
    "                break\n",
    "            else:\n",
    "                more = rw['GDP in billions of chained 2009 dollars']\n",
    "    '''Returns the year and quarter of the recession end time as a \n",
    "    string value in a format such as 2005q3'''\n",
    "       \n",
    "    return end"
   ]
  },
  {
   "cell_type": "code",
   "execution_count": 25,
   "metadata": {
    "collapsed": true,
    "umich_part_id": "024",
    "umich_partlist_id": "004"
   },
   "outputs": [],
   "source": [
    "def get_recession_bottom():\n",
    "    dat=pd.read_excel('gdplev.xls')\n",
    "    dat=dat.dropna(axis=1,how='all')\n",
    "    dat.columns = ['Annual', 'GDP in billions of current dollars_a','GDP in billions of chained 2009 dollars_a',\n",
    "                   'Quartly','GDP in billions of current dollars','GDP in billions of chained 2009 dollars']\n",
    "    dat = dat.loc[7:]\n",
    "    start = get_recession_start()\n",
    "    start_ind = dat[dat.Quartly==start].index[0]\n",
    "    end = get_recession_end()\n",
    "    end_ind = dat[dat.Quartly==end].index[0]\n",
    "    dat = dat.loc[start_ind:end_ind]\n",
    "    low=min(dat['GDP in billions of chained 2009 dollars'])\n",
    "    bottom = dat[dat['GDP in billions of chained 2009 dollars'] == low]['Quartly'].values[0]\n",
    "    '''Returns the year and quarter of the recession bottom time as a \n",
    "    string value in a format such as 2005q3'''\n",
    "    return bottom"
   ]
  },
  {
   "cell_type": "code",
   "execution_count": 36,
   "metadata": {
    "collapsed": true,
    "umich_part_id": "025",
    "umich_partlist_id": "004"
   },
   "outputs": [],
   "source": [
    "def convert_housing_data_to_quarters():\n",
    "    house = pd.read_csv('City_Zhvi_AllHomes.csv')\n",
    "    house.State.replace(states, inplace=True)\n",
    "    house=house.set_index( ['State','RegionName'])\n",
    "    house = house.loc[:,'2000-01':'2016-08']\n",
    "    house.columns = pd.to_datetime(house.columns)\n",
    "    house = house.resample('Q',axis=1).mean()\n",
    "    house = house.rename(columns=lambda x: str(x.to_period('Q')).lower())\n",
    "    '''Converts the housing data to quarters and returns it as mean \n",
    "    values in a dataframe. This dataframe should be a dataframe with\n",
    "    columns for 2000q1 through 2016q3, and should have a multi-index\n",
    "    in the shape of [\"State\",\"RegionName\"].\n",
    "    \n",
    "    Note: Quarters are defined in the assignment description, they are\n",
    "    not arbitrary three month periods.\n",
    "    \n",
    "    The resulting dataframe should have 67 columns, and 10,730 rows.\n",
    "    '''\n",
    "    return house"
   ]
  },
  {
   "cell_type": "code",
   "execution_count": 47,
   "metadata": {
    "umich_part_id": "026",
    "umich_partlist_id": "004"
   },
   "outputs": [
    {
     "data": {
      "text/plain": [
       "(True, 0.0027240637047531249, 'university town')"
      ]
     },
     "execution_count": 47,
     "metadata": {},
     "output_type": "execute_result"
    }
   ],
   "source": [
    "def run_ttest():\n",
    "    '''First creates new data showing the decline or growth of housing prices\n",
    "    between the recession start and the recession bottom. Then runs a ttest\n",
    "    comparing the university town values to the non-university towns values, \n",
    "    return whether the alternative hypothesis (that the two groups are the same)\n",
    "    is true or not as well as the p-value of the confidence. \n",
    "    \n",
    "    Return the tuple (different, p, better) where different=True if the t-test is\n",
    "    True at a p<0.01 (we reject the null hypothesis), or different=False if \n",
    "    otherwise (we cannot reject the null hypothesis). The variable p should\n",
    "    be equal to the exact p value returned from scipy.stats.ttest_ind(). The\n",
    "    value for better should be either \"university town\" or \"non-university town\"\n",
    "    depending on which has a lower mean price ratio (which is equivilent to a\n",
    "    reduced market loss).'''\n",
    "    university =get_list_of_university_towns()\n",
    "    university = university.drop_duplicates(keep=False)\n",
    "    start_q=get_recession_start()\n",
    "    end_q=get_recession_end()\n",
    "    bottom_q=get_recession_bottom()\n",
    "    housing = convert_housing_data_to_quarters()\n",
    "    idx = housing.columns.get_loc(start_q)\n",
    "    prev_q = housing.columns[idx-1]\n",
    "    housing['ratio'] = housing[prev_q]/housing[bottom_q]\n",
    "    housing = housing.drop_duplicates(keep=False)\n",
    "    df = pd.merge(housing.reset_index(),university,on=university.columns.tolist(),indicator=True,how='outer')\n",
    "    uni_housing = df[df['_merge']=='both']\n",
    "    nonuni_housing = df[df['_merge']=='left_only']\n",
    "    if uni_housing['ratio'].mean() < nonuni_housing['ratio'].mean():\n",
    "        better = 'university town'\n",
    "    else:\n",
    "        better = 'non-university town'    \n",
    "    val, p= ttest_ind(nonuni_housing['ratio'],uni_housing['ratio'],nan_policy='omit')\n",
    "    if p < 0.01:\n",
    "        different = True\n",
    "    else:\n",
    "        different= False\n",
    "    return (different, p, better)\n",
    "run_ttest()"
   ]
  },
  {
   "cell_type": "code",
   "execution_count": null,
   "metadata": {
    "collapsed": true
   },
   "outputs": [],
   "source": []
  }
 ],
 "metadata": {
  "coursera": {
   "course_slug": "python-data-analysis",
   "graded_item_id": "Il9Fx",
   "launcher_item_id": "TeDW0",
   "part_id": "WGlun"
  },
  "kernelspec": {
   "display_name": "Python 3",
   "language": "python",
   "name": "python3"
  },
  "language_info": {
   "codemirror_mode": {
    "name": "ipython",
    "version": 3
   },
   "file_extension": ".py",
   "mimetype": "text/x-python",
   "name": "python",
   "nbconvert_exporter": "python",
   "pygments_lexer": "ipython3",
   "version": "3.6.2"
  },
  "umich": {
   "id": "Assignment 4",
   "version": "1.1"
  }
 },
 "nbformat": 4,
 "nbformat_minor": 1
}
